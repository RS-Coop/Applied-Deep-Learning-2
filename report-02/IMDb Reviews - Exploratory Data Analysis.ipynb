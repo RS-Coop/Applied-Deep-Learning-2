{
 "cells": [
  {
   "cell_type": "markdown",
   "id": "italian-chinese",
   "metadata": {},
   "source": [
    "# Introduction"
   ]
  },
  {
   "cell_type": "markdown",
   "id": "narrative-payroll",
   "metadata": {},
   "source": [
    "We will examin the Large Moview Review dataset also known as the imdb reviews. Information from TensorFlow can be found [here](https://www.tensorflow.org/datasets/catalog/imdb_reviews) as well as links to the original source. This dataset comprises a large number of highly polar (extremely positive or negative) movie reviews pulled from [IMDb](https://www.imdb.com/) -- a website for rating movies. The target application is text based binary sentiment classification.\n",
    "\n",
    "The following resources have been used to help in this investigation:\n",
    "- [TF - Basic Text Classification](https://www.tensorflow.org/tutorials/keras/text_classification)"
   ]
  },
  {
   "cell_type": "code",
   "execution_count": 1,
   "id": "civil-pepper",
   "metadata": {},
   "outputs": [],
   "source": [
    "import tensorflow as tf\n",
    "import tensorflow_datasets as tfds\n",
    "import pandas as pd\n",
    "import numpy as np\n",
    "import matplotlib.pyplot as plt\n",
    "import seaborn as sns\n",
    "\n",
    "sns.set()"
   ]
  },
  {
   "cell_type": "markdown",
   "id": "vietnamese-latin",
   "metadata": {},
   "source": [
    "# Loading Dataset"
   ]
  },
  {
   "cell_type": "code",
   "execution_count": 2,
   "id": "military-hawaiian",
   "metadata": {},
   "outputs": [],
   "source": [
    "#Download data into imdb directory\n",
    "#NOTE: Will also download unsupervised data\n",
    "#NOTE: Subsequent calls will reuse\n",
    "train_ds, ds_info = tfds.load('imdb_reviews', data_dir='imdb', \n",
    "                              split='train', with_info=True)"
   ]
  },
  {
   "cell_type": "markdown",
   "id": "conditional-riding",
   "metadata": {},
   "source": [
    "Looks like that went pretty well, so let's real quick check a single example to make sure it's what we expect. Also, we note that to keeps things simple we are just looking at the training split of the dataset. There are also test and unsupervised splits. We will make some comments about these other splits when appropriate."
   ]
  },
  {
   "cell_type": "code",
   "execution_count": 3,
   "id": "electrical-tiger",
   "metadata": {},
   "outputs": [
    {
     "name": "stdout",
     "output_type": "stream",
     "text": [
      "Text: b\"This was an absolutely terrible movie. Don't be lured in by Christopher Walken or Michael Ironside. Both are great actors, but this must simply be their worst role in history. Even their great acting could not redeem this movie's ridiculous storyline. This movie is an early nineties US propaganda piece. The most pathetic scenes were those when the Columbian rebels were making their cases for revolutions. Maria Conchita Alonso appeared phony, and her pseudo-love affair with Walken was nothing but a pathetic emotional plug in a movie that was devoid of any real meaning. I am disappointed that there are movies like this, ruining actor's like Christopher Walken's good name. I could barely sit through it.\"\n",
      "\n",
      "Label: 0\n"
     ]
    }
   ],
   "source": [
    "for example in train_ds.take(1):\n",
    "    print('Text: {}\\n'.format(example['text']))\n",
    "    print('Label: {}'.format(example['label']))"
   ]
  },
  {
   "cell_type": "markdown",
   "id": "magnetic-ceremony",
   "metadata": {},
   "source": [
    "We have just extracted the training split from the dataset and examined a single example. We can see that in each example we have the review text and a label (in this case 0). The only major thing worth noting is that our text is formatted as a byte string."
   ]
  },
  {
   "cell_type": "markdown",
   "id": "encouraging-mechanics",
   "metadata": {},
   "source": [
    "# Exploration"
   ]
  },
  {
   "cell_type": "markdown",
   "id": "intellectual-profile",
   "metadata": {},
   "source": [
    "First, we will convert our dataset object to a dataframe for easier exploration and understanding. We note that the label 0 corresponds to negative and 1 to positive."
   ]
  },
  {
   "cell_type": "code",
   "execution_count": 4,
   "id": "productive-ticket",
   "metadata": {},
   "outputs": [],
   "source": [
    "class_map = {0:'Negative', 1:'Positive'}"
   ]
  },
  {
   "cell_type": "code",
   "execution_count": 5,
   "id": "respected-runner",
   "metadata": {},
   "outputs": [],
   "source": [
    "train_df = tfds.as_dataframe(train_ds)\n",
    "train_df.columns = ['Label', 'Text']\n",
    "train_df['Text'] = train_df['Text'].str.decode('utf-8')\n",
    "train_df['Label'] = train_df['Label'].map(class_map)"
   ]
  },
  {
   "cell_type": "code",
   "execution_count": 6,
   "id": "collaborative-soviet",
   "metadata": {},
   "outputs": [
    {
     "data": {
      "text/html": [
       "<div>\n",
       "<style scoped>\n",
       "    .dataframe tbody tr th:only-of-type {\n",
       "        vertical-align: middle;\n",
       "    }\n",
       "\n",
       "    .dataframe tbody tr th {\n",
       "        vertical-align: top;\n",
       "    }\n",
       "\n",
       "    .dataframe thead th {\n",
       "        text-align: right;\n",
       "    }\n",
       "</style>\n",
       "<table border=\"1\" class=\"dataframe\">\n",
       "  <thead>\n",
       "    <tr style=\"text-align: right;\">\n",
       "      <th></th>\n",
       "      <th>Label</th>\n",
       "      <th>Text</th>\n",
       "    </tr>\n",
       "  </thead>\n",
       "  <tbody>\n",
       "    <tr>\n",
       "      <th>0</th>\n",
       "      <td>Negative</td>\n",
       "      <td>This was an absolutely terrible movie. Don't b...</td>\n",
       "    </tr>\n",
       "    <tr>\n",
       "      <th>1</th>\n",
       "      <td>Negative</td>\n",
       "      <td>I have been known to fall asleep during films,...</td>\n",
       "    </tr>\n",
       "    <tr>\n",
       "      <th>2</th>\n",
       "      <td>Negative</td>\n",
       "      <td>Mann photographs the Alberta Rocky Mountains i...</td>\n",
       "    </tr>\n",
       "    <tr>\n",
       "      <th>3</th>\n",
       "      <td>Positive</td>\n",
       "      <td>This is the kind of film for a snowy Sunday af...</td>\n",
       "    </tr>\n",
       "    <tr>\n",
       "      <th>4</th>\n",
       "      <td>Positive</td>\n",
       "      <td>As others have mentioned, all the women that g...</td>\n",
       "    </tr>\n",
       "  </tbody>\n",
       "</table>\n",
       "</div>"
      ],
      "text/plain": [
       "      Label                                               Text\n",
       "0  Negative  This was an absolutely terrible movie. Don't b...\n",
       "1  Negative  I have been known to fall asleep during films,...\n",
       "2  Negative  Mann photographs the Alberta Rocky Mountains i...\n",
       "3  Positive  This is the kind of film for a snowy Sunday af...\n",
       "4  Positive  As others have mentioned, all the women that g..."
      ]
     },
     "execution_count": 6,
     "metadata": {},
     "output_type": "execute_result"
    }
   ],
   "source": [
    "train_df.head()"
   ]
  },
  {
   "cell_type": "markdown",
   "id": "engaging-floor",
   "metadata": {},
   "source": [
    "Great! We have converted our byte strings to regular strings, mapped the integer label to a string, and thrown everything in a dataframe. We can see the first few rows of this in the output above.\n",
    "\n",
    "We can now easily qualify and quantify our data, so let's do that."
   ]
  },
  {
   "cell_type": "code",
   "execution_count": 7,
   "id": "magnetic-blanket",
   "metadata": {},
   "outputs": [
    {
     "name": "stdout",
     "output_type": "stream",
     "text": [
      "Training Samples: 25000\n"
     ]
    }
   ],
   "source": [
    "print('Training Samples: {}'.format(train_df.shape[0]))"
   ]
  },
  {
   "cell_type": "markdown",
   "id": "atomic-parliament",
   "metadata": {},
   "source": [
    "That is consistent with the documentation, and we note that the there are also 25,000 testing samples in addition to 50,000 unlabeled examples."
   ]
  },
  {
   "cell_type": "code",
   "execution_count": 8,
   "id": "directed-spray",
   "metadata": {},
   "outputs": [
    {
     "data": {
      "image/png": "[encoded data removed]",
      "text/plain": [
       "<Figure size 720x576 with 1 Axes>"
      ]
     },
     "metadata": {},
     "output_type": "display_data"
    }
   ],
   "source": [
    "plt.subplots(1,1,figsize=(10,8))\n",
    "sns.countplot(x=\"Label\", data=train_df);"
   ]
  },
  {
   "cell_type": "markdown",
   "id": "smooth-google",
   "metadata": {},
   "source": [
    "It looks like our dataset is perfectly balanced between positive and negative reviews. Let's look at an example of each to better understand their polarity."
   ]
  },
  {
   "cell_type": "code",
   "execution_count": 9,
   "id": "conceptual-museum",
   "metadata": {},
   "outputs": [
    {
     "name": "stdout",
     "output_type": "stream",
     "text": [
      "Negative Example: \n",
      "\n",
      "This was an absolutely terrible movie. Don't be lured in by Christopher Walken or Michael Ironside. Both are great actors, but this must simply be their worst role in history. Even their great acting could not redeem this movie's ridiculous storyline. This movie is an early nineties US propaganda piece. The most pathetic scenes were those when the Columbian rebels were making their cases for revolutions. Maria Conchita Alonso appeared phony, and her pseudo-love affair with Walken was nothing but a pathetic emotional plug in a movie that was devoid of any real meaning. I am disappointed that there are movies like this, ruining actor's like Christopher Walken's good name. I could barely sit through it. \n",
      "\n",
      "Positive Example: \n",
      "\n",
      "This is the kind of film for a snowy Sunday afternoon when the rest of the world can go ahead with its own business as you descend into a big arm-chair and mellow for a couple of hours. Wonderful performances from Cher and Nicolas Cage (as always) gently row the plot along. There are no rapids to cross, no dangerous waters, just a warm and witty paddle through New York life at its best. A family film in every sense and one that deserves the praise it received.\n"
     ]
    }
   ],
   "source": [
    "print('Negative Example: \\n')\n",
    "print(train_df.loc[0, 'Text'],'\\n')\n",
    "print('Positive Example: \\n')\n",
    "print(train_df.loc[3, 'Text'])"
   ]
  },
  {
   "cell_type": "markdown",
   "id": "minimal-cholesterol",
   "metadata": {},
   "source": [
    "In the negative example we see words like \"terrible\", \"worst\", and \"pathetic\"; while in the positive example we see \"wonderful\" and \"praise\". I would expect these sorts of words to be the major indicators in classification.\n",
    "\n",
    "One question related to this dataset I would like to answer is how long is the average sequence length (in words), and what is this distribution within our classes?"
   ]
  },
  {
   "cell_type": "code",
   "execution_count": 10,
   "id": "moderate-grenada",
   "metadata": {},
   "outputs": [],
   "source": [
    "train_df['Length'] = train_df['Text'].str.split().apply(len)"
   ]
  },
  {
   "cell_type": "code",
   "execution_count": 11,
   "id": "subjective-capability",
   "metadata": {},
   "outputs": [
    {
     "data": {
      "image/png": "[encoded data removed]",
      "text/plain": [
       "<Figure size 720x576 with 1 Axes>"
      ]
     },
     "metadata": {},
     "output_type": "display_data"
    }
   ],
   "source": [
    "plt.subplots(1,1,figsize=(10,8))\n",
    "sns.violinplot(x=\"Label\", y=\"Length\", data=train_df);"
   ]
  },
  {
   "cell_type": "code",
   "execution_count": 12,
   "id": "stunning-somerset",
   "metadata": {},
   "outputs": [
    {
     "name": "stdout",
     "output_type": "stream",
     "text": [
      "Average sequence length: 233.7872\n"
     ]
    }
   ],
   "source": [
    "print('Average sequence length: {}'.format(train_df['Length'].mean()))"
   ]
  },
  {
   "cell_type": "markdown",
   "id": "occupational-ethics",
   "metadata": {},
   "source": [
    "In the violin plot above we can see that both classes have a very similar distribution of sequence lengths. The \"positive\" class seems to have a few longer ones than the \"negative\", but the bulk of the reviews are fewer than 500 words in length. We can see this further validated as the average sequence length (independent of class) is around 230 words."
   ]
  },
  {
   "cell_type": "markdown",
   "id": "wound-skill",
   "metadata": {},
   "source": [
    "The final thing we will do with this dataset is examine its structure as a corpus. To do this we will tokenize our data, and we will also remove so-called \"stop-words\". These are words that are very common (e.g. \"the\", \"a\", etc.). Doing this will help us focus on more important words with regards to text classification."
   ]
  },
  {
   "cell_type": "code",
   "execution_count": 13,
   "id": "thrown-defensive",
   "metadata": {},
   "outputs": [
    {
     "name": "stdout",
     "output_type": "stream",
     "text": [
      "['i', 'me', 'my', 'myself', 'we', 'our', 'ours', 'ourselves', 'you', \"you're\", \"you've\", \"you'll\", \"you'd\", 'your', 'yours', 'yourself', 'yourselves', 'he', 'him', 'his', 'himself', 'she', \"she's\", 'her', 'hers', 'herself', 'it', \"it's\", 'its', 'itself', 'they', 'them', 'their', 'theirs', 'themselves', 'what', 'which', 'who', 'whom', 'this', 'that', \"that'll\", 'these', 'those', 'am', 'is', 'are', 'was', 'were', 'be', 'been', 'being', 'have', 'has', 'had', 'having', 'do', 'does', 'did', 'doing', 'a', 'an', 'the', 'and', 'but', 'if', 'or', 'because', 'as', 'until', 'while', 'of', 'at', 'by', 'for', 'with', 'about', 'against', 'between', 'into', 'through', 'during', 'before', 'after', 'above', 'below', 'to', 'from', 'up', 'down', 'in', 'out', 'on', 'off', 'over', 'under', 'again', 'further', 'then', 'once', 'here', 'there', 'when', 'where', 'why', 'how', 'all', 'any', 'both', 'each', 'few', 'more', 'most', 'other', 'some', 'such', 'no', 'nor', 'not', 'only', 'own', 'same', 'so', 'than', 'too', 'very', 's', 't', 'can', 'will', 'just', 'don', \"don't\", 'should', \"should've\", 'now', 'd', 'll', 'm', 'o', 're', 've', 'y', 'ain', 'aren', \"aren't\", 'couldn', \"couldn't\", 'didn', \"didn't\", 'doesn', \"doesn't\", 'hadn', \"hadn't\", 'hasn', \"hasn't\", 'haven', \"haven't\", 'isn', \"isn't\", 'ma', 'mightn', \"mightn't\", 'mustn', \"mustn't\", 'needn', \"needn't\", 'shan', \"shan't\", 'shouldn', \"shouldn't\", 'wasn', \"wasn't\", 'weren', \"weren't\", 'won', \"won't\", 'wouldn', \"wouldn't\"]\n"
     ]
    }
   ],
   "source": [
    "#This will download the nltk stopwords if you uncomment below\n",
    "import nltk\n",
    "from nltk.corpus import stopwords\n",
    "# nltk.download('stopwords') #Only need this if not yet downloaded\n",
    "print(stopwords.words('english'))"
   ]
  },
  {
   "cell_type": "markdown",
   "id": "portable-energy",
   "metadata": {},
   "source": [
    "We are using a package (nltk) to provide the stopwords, and we can see all of these printed above. We then define a function below to clean our text. We will apply this to our dataframe and then tokenize."
   ]
  },
  {
   "cell_type": "code",
   "execution_count": 20,
   "id": "nutritional-regulation",
   "metadata": {},
   "outputs": [],
   "source": [
    "import re\n",
    "import string\n",
    "\n",
    "def clean_text(text):\n",
    "    #Convert to lower case\n",
    "    text = text.lower()\n",
    "    \n",
    "    #Remove punctuation\n",
    "    text = re.sub('\\[.*?\\]', '', text)\n",
    "    text = re.sub('https?://\\S+|www\\.\\S+', '', text)\n",
    "    text = re.sub('<.*?>+', '', text)\n",
    "    text = re.sub('[%s]' % re.escape(string.punctuation), '', text)\n",
    "    text = re.sub('\\n', '', text)\n",
    "    text = re.sub('\\w*\\d\\w*', '', text)\n",
    "\n",
    "    #Remove stop words\n",
    "    text = [word for word in text.split() if word not in stopwords.words('english')]\n",
    "    \n",
    "    return ' '.join(text)"
   ]
  },
  {
   "cell_type": "code",
   "execution_count": 21,
   "id": "underlying-details",
   "metadata": {},
   "outputs": [
    {
     "name": "stdout",
     "output_type": "stream",
     "text": [
      "This was an absolutely terrible movie. Don't be lured in by Christopher Walken or Michael Ironside. Both are great actors, but this must simply be their worst role in history. Even their great acting could not redeem this movie's ridiculous storyline. This movie is an early nineties US propaganda piece. The most pathetic scenes were those when the Columbian rebels were making their cases for revolutions. Maria Conchita Alonso appeared phony, and her pseudo-love affair with Walken was nothing but a pathetic emotional plug in a movie that was devoid of any real meaning. I am disappointed that there are movies like this, ruining actor's like Christopher Walken's good name. I could barely sit through it. \n",
      "\n",
      "absolutely terrible movie dont lured christopher walken michael ironside great actors must simply worst role history even great acting could redeem movies ridiculous storyline movie early nineties us propaganda piece pathetic scenes columbian rebels making cases revolutions maria conchita alonso appeared phony pseudolove affair walken nothing pathetic emotional plug movie devoid real meaning disappointed movies like ruining actors like christopher walkens good name could barely sit\n"
     ]
    }
   ],
   "source": [
    "test_text = train_df.loc[0,'Text']\n",
    "print(test_text,'\\n')\n",
    "print(clean_text(test_text))"
   ]
  },
  {
   "cell_type": "markdown",
   "id": "portuguese-suspect",
   "metadata": {},
   "source": [
    "We can see the output from testing our text cleaning function above. It seems to be working well, and clearly we are narrowing the focus by removing very common words. For our purposes this is good as I am interested in the distribution of more important words. However, for certain text based tasks removing all the stop words can eradicate certain nuances in meaning. It is definitely important to be thoughtful when doing this."
   ]
  },
  {
   "cell_type": "code",
   "execution_count": 22,
   "id": "hairy-sally",
   "metadata": {},
   "outputs": [],
   "source": [
    "#NOTE: This takes a long time to run\n",
    "train_df['Text'] = train_df['Text'].apply(lambda x: clean_text(x))"
   ]
  },
  {
   "cell_type": "code",
   "execution_count": 30,
   "id": "revolutionary-knock",
   "metadata": {},
   "outputs": [],
   "source": [
    "#Saving processed data as csv just in case we want to use it later\n",
    "# train_df.loc[:,'Label':'Text'].to_csv('imdb_csv/imdb_reviews.csv')"
   ]
  },
  {
   "cell_type": "code",
   "execution_count": 32,
   "id": "hourly-exercise",
   "metadata": {},
   "outputs": [],
   "source": [
    "from tensorflow.keras.preprocessing.text import Tokenizer\n",
    "\n",
    "T = Tokenizer()\n",
    "T.fit_on_texts(train_df['Text'])"
   ]
  },
  {
   "cell_type": "code",
   "execution_count": 39,
   "id": "sustainable-blink",
   "metadata": {},
   "outputs": [
    {
     "name": "stdout",
     "output_type": "stream",
     "text": [
      "Vocab size:  137774\n",
      "Most frequent word:  movie\n"
     ]
    }
   ],
   "source": [
    "v_size = len(T.word_index)+1\n",
    "print('Vocab size: ', v_size)"
   ]
  },
  {
   "cell_type": "markdown",
   "id": "returning-designer",
   "metadata": {},
   "source": [
    "We have almost 140,000 unique words in our corpus, and (not very surprisingly) the word \"movie\" is the most common. Below we can see the top 10 most common words and the total number of appearances."
   ]
  },
  {
   "cell_type": "code",
   "execution_count": 50,
   "id": "swedish-personal",
   "metadata": {},
   "outputs": [
    {
     "name": "stdout",
     "output_type": "stream",
     "text": [
      "Top 10 most frequent words: \n",
      "\n",
      "1. movie (41799)\n",
      "2. film (37460)\n",
      "3. one (25150)\n",
      "4. like (19561)\n",
      "5. good (14508)\n",
      "6. even (12325)\n",
      "7. would (12122)\n",
      "8. time (11782)\n",
      "9. really (11639)\n",
      "10. story (11431)\n"
     ]
    }
   ],
   "source": [
    "print('Top 10 most frequent words: \\n')\n",
    "for i in range(1,11):\n",
    "    word = T.index_word[i]\n",
    "    print('{}. {} ({})'.format(i, word, T.word_counts[word]))"
   ]
  },
  {
   "cell_type": "markdown",
   "id": "isolated-tokyo",
   "metadata": {},
   "source": [
    "Words like \"good\" and \"really\" seem importat to classification, but words like \"movie\" or \"story\" are more independent with respect to polarity. Thus handling in the un-balanced distributions of words is still important."
   ]
  },
  {
   "cell_type": "code",
   "execution_count": 42,
   "id": "unauthorized-location",
   "metadata": {},
   "outputs": [],
   "source": [
    "counts = sorted([count for key, count in T.word_counts.items()], reverse=True)"
   ]
  },
  {
   "cell_type": "code",
   "execution_count": 49,
   "id": "collective-insight",
   "metadata": {},
   "outputs": [
    {
     "data": {
      "image/png": "[encoded data removed]",
      "text/plain": [
       "<Figure size 720x720 with 1 Axes>"
      ]
     },
     "metadata": {},
     "output_type": "display_data"
    }
   ],
   "source": [
    "n = 100\n",
    "x = np.arange(1, n+1)\n",
    "\n",
    "fig, ax = plt.subplots(1,1, figsize=(10,10))\n",
    "plot = sns.barplot(x=x, y=counts[:n], ax=ax)\n",
    "plot.set(xticklabels=[])\n",
    "plot.set(xlabel=None)\n",
    "plot.tick_params(bottom=False)\n",
    "plot.set(title='Top 100 Word Counts');"
   ]
  },
  {
   "cell_type": "markdown",
   "id": "forbidden-reflection",
   "metadata": {},
   "source": [
    "Lastly, we see the distribution of word counts among the top 100 words. It appears that there is less of a power law type distribution."
   ]
  }
 ],
 "metadata": {
  "kernelspec": {
   "display_name": "Python 3",
   "language": "python",
   "name": "python3"
  },
  "language_info": {
   "codemirror_mode": {
    "name": "ipython",
    "version": 3
   },
   "file_extension": ".py",
   "mimetype": "text/x-python",
   "name": "python",
   "nbconvert_exporter": "python",
   "pygments_lexer": "ipython3",
   "version": "3.8.5"
  }
 },
 "nbformat": 4,
 "nbformat_minor": 5
}
