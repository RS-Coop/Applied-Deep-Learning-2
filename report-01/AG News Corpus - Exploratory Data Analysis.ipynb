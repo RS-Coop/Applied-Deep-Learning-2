{
 "cells": [
  {
   "cell_type": "markdown",
   "id": "failing-kentucky",
   "metadata": {},
   "source": [
    "# Introduction"
   ]
  },
  {
   "cell_type": "markdown",
   "id": "spatial-current",
   "metadata": {},
   "source": [
    "We will be investigating and exploring a subset of the [AG News Corpus](http://groups.di.unipi.it/~gulli/AG_corpus_of_news_articles.html) dataset for text classification. The original corpus is a set of more than a million news articles compiled by ComeToMyHead -- a news search engine. The subset we will be working with is much smaller (curated by [Xiang Zhang](https://arxiv.org/abs/1509.01626)), and it is provided through [TensorFlow Datasets](https://www.tensorflow.org/datasets/catalog/ag_news_subset). These two facts make the AG Subset desirable as it will be easy to work with in terms of accessability and size. Furthermore, because the corpus is compiled from news articles I am hoping that it will contain a diverse vocabulary. In addition to this EDA I hope to also build my own word embeddings, and my thinking is that having a diverse vocabulary will make it easier to find applicable test metrics."
   ]
  },
  {
   "cell_type": "code",
   "execution_count": 1,
   "id": "fatty-wellington",
   "metadata": {},
   "outputs": [],
   "source": [
    "import tensorflow as tf\n",
    "import numpy as np\n",
    "import tensorflow_datasets as tfds\n",
    "\n",
    "import pandas as pd\n",
    "import seaborn as sns\n",
    "import matplotlib.pyplot as plt"
   ]
  },
  {
   "cell_type": "markdown",
   "id": "surgical-semiconductor",
   "metadata": {},
   "source": [
    "# Download"
   ]
  },
  {
   "cell_type": "markdown",
   "id": "accessible-relative",
   "metadata": {},
   "source": [
    "One may think that this would be any easy process given the established nature of TensorFlow and the fact that their documentation makes it seem like it would be easy, but good god you would be wrong. Long story short, the function to download and preprocess the AG Subset dataset results in a checksum mismatch error. Now I am no expert in checksums, but the only reason there was a mismatch was because the checksum TF expected was all caps, and that doesn't seem like a real problem. My plan is to open an issue on GitHub so they can fix it, but in the meantime I have figured out a workaround. Using the CLI that comes with the TF Datasets package run the following command from within this repository:\n",
    "\n",
    "```\n",
    "tfds build ag_news_subset --register_checksums --data_dir data\n",
    "```\n",
    "\n",
    "This should download and process the data and place it in the *data_tf* folder. The code below will then load that data for use throughout."
   ]
  },
  {
   "cell_type": "code",
   "execution_count": 2,
   "id": "reported-invite",
   "metadata": {},
   "outputs": [],
   "source": [
    "#This only works if you ran the CLI command above, or have already\n",
    "#run the tfds.load command\n",
    "ds, info = tfds.load('ag_news_subset', data_dir='./data_tf', download=False, with_info=True)\n",
    "\n",
    "#This should be working now, but manual download is easiest\n",
    "# ds = tfds.load('ag_news_subset', data_dir='./data_tf')"
   ]
  },
  {
   "cell_type": "markdown",
   "id": "tender-merchandise",
   "metadata": {},
   "source": [
    "# Exploration"
   ]
  },
  {
   "cell_type": "code",
   "execution_count": 3,
   "id": "measured-services",
   "metadata": {},
   "outputs": [
    {
     "name": "stdout",
     "output_type": "stream",
     "text": [
      "['train', 'test']\n"
     ]
    }
   ],
   "source": [
    "print(list(ds.keys()))"
   ]
  },
  {
   "cell_type": "markdown",
   "id": "sitting-barcelona",
   "metadata": {},
   "source": [
    "We can see that our dataset has two splits: train and test. From the TF documentation we also know that there are 120,000 examples in the training set and 7,600 examples in the test set. Next, let's examine a single training example."
   ]
  },
  {
   "cell_type": "code",
   "execution_count": 4,
   "id": "arranged-superior",
   "metadata": {},
   "outputs": [
    {
     "name": "stdout",
     "output_type": "stream",
     "text": [
      "['description', 'label', 'title']\n"
     ]
    }
   ],
   "source": [
    "for example in ds['train'].take(1):\n",
    "    print(list(example.keys()))"
   ]
  },
  {
   "cell_type": "code",
   "execution_count": 5,
   "id": "scheduled-remains",
   "metadata": {},
   "outputs": [
    {
     "name": "stdout",
     "output_type": "stream",
     "text": [
      "tf.Tensor(b'AMD #39;s new dual-core Opteron chip is designed mainly for corporate computing applications, including databases, Web services, and financial transactions.', shape=(), dtype=string) \n",
      "\n",
      "tf.Tensor(3, shape=(), dtype=int64) \n",
      "\n",
      "tf.Tensor(b'AMD Debuts Dual-Core Opteron Processor', shape=(), dtype=string)\n"
     ]
    }
   ],
   "source": [
    "print(example['description'],'\\n')\n",
    "print(example['label'],'\\n')\n",
    "print(example['title'])"
   ]
  },
  {
   "cell_type": "markdown",
   "id": "standing-annex",
   "metadata": {},
   "source": [
    "We see that each example has three attributes: a description (a short snippet of the article), a label, and a title. The example above is from an article on a new AMD processor and is given the label \"3\". There are four classes, which is actually a subset from the original corpus, and they are sports, business, science and technology, and world. Thus we see that the above example falls under the science and technology category."
   ]
  },
  {
   "cell_type": "code",
   "execution_count": 6,
   "id": "everyday-cycle",
   "metadata": {},
   "outputs": [],
   "source": [
    "classes = ['world', 'sports', 'business', 'science/technology']"
   ]
  },
  {
   "cell_type": "markdown",
   "id": "brown-snowboard",
   "metadata": {},
   "source": [
    "The dataset was created for the purposes of text classification, hence the labels for supervised training. Of course this doesn't prevent it from being used for building embeddings, and that is a necessary part to any text based deep learning task. We also note that for the purposes of embedding, the description and title can both be used."
   ]
  },
  {
   "cell_type": "markdown",
   "id": "silent-discipline",
   "metadata": {},
   "source": [
    "One surprising thing that might stand out from the above example is the \"#39;s\". This appears to be indicating a 's, but it is unclear if this is a purposeful addition or if there is some error.\n",
    "\n",
    "To investigate this further let's try loading the dataset manually to see if that fixes it."
   ]
  },
  {
   "cell_type": "code",
   "execution_count": 35,
   "id": "continental-glass",
   "metadata": {},
   "outputs": [],
   "source": [
    "train_df = pd.read_csv('data_csv/ag_news_csv/train.csv', names=['Label','Title','Description'])\n",
    "\n",
    "#NOTE: If you didn't do manual donwload run these lines instead\n",
    "# train_df = tfds.as_dataframe(ds['train'], info)\n",
    "# train_df.columns = train_df.columns.str.capitalize()\n",
    "# train_df = train_df[['Label', 'Title', 'Description']]\n",
    "# train_df['Description'] = train_df['Description'].str.decode('utf-8');\n",
    "# train_df['Title'] = train_df['Title'].str.decode('utf-8');"
   ]
  },
  {
   "cell_type": "code",
   "execution_count": 36,
   "id": "gross-hormone",
   "metadata": {},
   "outputs": [
    {
     "data": {
      "text/html": [
       "<div>\n",
       "<style scoped>\n",
       "    .dataframe tbody tr th:only-of-type {\n",
       "        vertical-align: middle;\n",
       "    }\n",
       "\n",
       "    .dataframe tbody tr th {\n",
       "        vertical-align: top;\n",
       "    }\n",
       "\n",
       "    .dataframe thead th {\n",
       "        text-align: right;\n",
       "    }\n",
       "</style>\n",
       "<table border=\"1\" class=\"dataframe\">\n",
       "  <thead>\n",
       "    <tr style=\"text-align: right;\">\n",
       "      <th></th>\n",
       "      <th>Label</th>\n",
       "      <th>Title</th>\n",
       "      <th>Description</th>\n",
       "    </tr>\n",
       "  </thead>\n",
       "  <tbody>\n",
       "    <tr>\n",
       "      <th>0</th>\n",
       "      <td>3</td>\n",
       "      <td>Wall St. Bears Claw Back Into the Black (Reuters)</td>\n",
       "      <td>Reuters - Short-sellers, Wall Street's dwindli...</td>\n",
       "    </tr>\n",
       "    <tr>\n",
       "      <th>1</th>\n",
       "      <td>3</td>\n",
       "      <td>Carlyle Looks Toward Commercial Aerospace (Reu...</td>\n",
       "      <td>Reuters - Private investment firm Carlyle Grou...</td>\n",
       "    </tr>\n",
       "    <tr>\n",
       "      <th>2</th>\n",
       "      <td>3</td>\n",
       "      <td>Oil and Economy Cloud Stocks' Outlook (Reuters)</td>\n",
       "      <td>Reuters - Soaring crude prices plus worries\\ab...</td>\n",
       "    </tr>\n",
       "    <tr>\n",
       "      <th>3</th>\n",
       "      <td>3</td>\n",
       "      <td>Iraq Halts Oil Exports from Main Southern Pipe...</td>\n",
       "      <td>Reuters - Authorities have halted oil export\\f...</td>\n",
       "    </tr>\n",
       "    <tr>\n",
       "      <th>4</th>\n",
       "      <td>3</td>\n",
       "      <td>Oil prices soar to all-time record, posing new...</td>\n",
       "      <td>AFP - Tearaway world oil prices, toppling reco...</td>\n",
       "    </tr>\n",
       "  </tbody>\n",
       "</table>\n",
       "</div>"
      ],
      "text/plain": [
       "   Label                                              Title  \\\n",
       "0      3  Wall St. Bears Claw Back Into the Black (Reuters)   \n",
       "1      3  Carlyle Looks Toward Commercial Aerospace (Reu...   \n",
       "2      3    Oil and Economy Cloud Stocks' Outlook (Reuters)   \n",
       "3      3  Iraq Halts Oil Exports from Main Southern Pipe...   \n",
       "4      3  Oil prices soar to all-time record, posing new...   \n",
       "\n",
       "                                         Description  \n",
       "0  Reuters - Short-sellers, Wall Street's dwindli...  \n",
       "1  Reuters - Private investment firm Carlyle Grou...  \n",
       "2  Reuters - Soaring crude prices plus worries\\ab...  \n",
       "3  Reuters - Authorities have halted oil export\\f...  \n",
       "4  AFP - Tearaway world oil prices, toppling reco...  "
      ]
     },
     "execution_count": 36,
     "metadata": {},
     "output_type": "execute_result"
    }
   ],
   "source": [
    "train_df.head()"
   ]
  },
  {
   "cell_type": "code",
   "execution_count": 37,
   "id": "according-celebrity",
   "metadata": {},
   "outputs": [
    {
     "name": "stdout",
     "output_type": "stream",
     "text": [
      "AP - Assets of the nation's retail money market mutual funds fell by  #36;1.17 billion in the latest week to  #36;849.98 trillion, the Investment Company Institute said Thursday.\n"
     ]
    }
   ],
   "source": [
    "print(train_df.loc[6, 'Description'])"
   ]
  },
  {
   "cell_type": "markdown",
   "id": "combined-occurrence",
   "metadata": {},
   "source": [
    "On a first glance this seems to have fixed the problem, but as we can see in the output above there are still these strange characters. Below, we have looked through our dataframe for the exact same example, and we can see that it still has the \"#39;s\"."
   ]
  },
  {
   "cell_type": "code",
   "execution_count": 38,
   "id": "complete-cooler",
   "metadata": {},
   "outputs": [
    {
     "name": "stdout",
     "output_type": "stream",
     "text": [
      "AMD #39;s new dual-core Opteron chip is designed mainly for corporate computing applications, including databases, Web services, and financial transactions.\n"
     ]
    }
   ],
   "source": [
    "for idx, row in train_df.iterrows():\n",
    "    if 'AMD Debuts Dual-Core' in row[1]:\n",
    "        print(row[2])\n",
    "        break"
   ]
  },
  {
   "cell_type": "markdown",
   "id": "behind-marathon",
   "metadata": {},
   "source": [
    "Further research on the web has shown that 39 is the ASCII value for and apostrophe (') and 36 the ASCII value for doller sign ($), so it seems not all of the ASCII is getting properly parsed. This isn't too much of a problem as (at least for my task of embeddding) I would want to get rid of these symbols anyway."
   ]
  },
  {
   "cell_type": "markdown",
   "id": "exempt-bedroom",
   "metadata": {},
   "source": [
    "Before we try to tackle any pre-processing lets look at the distribution of classes in our data. It is also a good time to note that when manually loading our dataset the class values range from 1-4 instead of 0-3. This explains why the examples in the df.head() output above are labeled 3 for business."
   ]
  },
  {
   "cell_type": "code",
   "execution_count": 39,
   "id": "secure-grenada",
   "metadata": {},
   "outputs": [
    {
     "data": {
      "image/png": "[encoded data removed]",
      "text/plain": [
       "<Figure size 720x720 with 1 Axes>"
      ]
     },
     "metadata": {
      "needs_background": "light"
     },
     "output_type": "display_data"
    }
   ],
   "source": [
    "fig, ax = plt.subplots(1,1, figsize=(10,10))\n",
    "plot = sns.countplot(x='Label', data=train_df, ax=ax)\n",
    "plot.set(title='Class Distribution');"
   ]
  },
  {
   "cell_type": "markdown",
   "id": "silver-teddy",
   "metadata": {},
   "source": [
    "Well, this is a perfectly balanced dataset with 30,000 examples per class. Again, this doesn't so much matter for embedding, but it is good to know."
   ]
  },
  {
   "cell_type": "markdown",
   "id": "female-scott",
   "metadata": {},
   "source": [
    "We are interested in using both the example titles and descriptions in our training, so we will reformat our dataframe to accomodate this."
   ]
  },
  {
   "cell_type": "code",
   "execution_count": 40,
   "id": "infrared-stack",
   "metadata": {},
   "outputs": [],
   "source": [
    "df1 = train_df[['Label','Title']]\n",
    "df2 = train_df[['Label','Description']]\n",
    "\n",
    "df1.columns = ['Label', 'Text']\n",
    "df2.columns = ['Label', 'Text']\n",
    "\n",
    "train_df = pd.concat([df1,df2], ignore_index=True)"
   ]
  },
  {
   "cell_type": "code",
   "execution_count": 41,
   "id": "unauthorized-tucson",
   "metadata": {},
   "outputs": [
    {
     "name": "stdout",
     "output_type": "stream",
     "text": [
      "(240000, 2)\n"
     ]
    },
    {
     "data": {
      "text/html": [
       "<div>\n",
       "<style scoped>\n",
       "    .dataframe tbody tr th:only-of-type {\n",
       "        vertical-align: middle;\n",
       "    }\n",
       "\n",
       "    .dataframe tbody tr th {\n",
       "        vertical-align: top;\n",
       "    }\n",
       "\n",
       "    .dataframe thead th {\n",
       "        text-align: right;\n",
       "    }\n",
       "</style>\n",
       "<table border=\"1\" class=\"dataframe\">\n",
       "  <thead>\n",
       "    <tr style=\"text-align: right;\">\n",
       "      <th></th>\n",
       "      <th>Label</th>\n",
       "      <th>Text</th>\n",
       "    </tr>\n",
       "  </thead>\n",
       "  <tbody>\n",
       "    <tr>\n",
       "      <th>0</th>\n",
       "      <td>3</td>\n",
       "      <td>Wall St. Bears Claw Back Into the Black (Reuters)</td>\n",
       "    </tr>\n",
       "    <tr>\n",
       "      <th>1</th>\n",
       "      <td>3</td>\n",
       "      <td>Carlyle Looks Toward Commercial Aerospace (Reu...</td>\n",
       "    </tr>\n",
       "    <tr>\n",
       "      <th>2</th>\n",
       "      <td>3</td>\n",
       "      <td>Oil and Economy Cloud Stocks' Outlook (Reuters)</td>\n",
       "    </tr>\n",
       "    <tr>\n",
       "      <th>3</th>\n",
       "      <td>3</td>\n",
       "      <td>Iraq Halts Oil Exports from Main Southern Pipe...</td>\n",
       "    </tr>\n",
       "    <tr>\n",
       "      <th>4</th>\n",
       "      <td>3</td>\n",
       "      <td>Oil prices soar to all-time record, posing new...</td>\n",
       "    </tr>\n",
       "  </tbody>\n",
       "</table>\n",
       "</div>"
      ],
      "text/plain": [
       "   Label                                               Text\n",
       "0      3  Wall St. Bears Claw Back Into the Black (Reuters)\n",
       "1      3  Carlyle Looks Toward Commercial Aerospace (Reu...\n",
       "2      3    Oil and Economy Cloud Stocks' Outlook (Reuters)\n",
       "3      3  Iraq Halts Oil Exports from Main Southern Pipe...\n",
       "4      3  Oil prices soar to all-time record, posing new..."
      ]
     },
     "execution_count": 41,
     "metadata": {},
     "output_type": "execute_result"
    }
   ],
   "source": [
    "print(train_df.shape)\n",
    "train_df.head()"
   ]
  },
  {
   "cell_type": "markdown",
   "id": "recognized-mozambique",
   "metadata": {},
   "source": [
    "We have doubled our training examples by including both the title and description as separate examples."
   ]
  },
  {
   "cell_type": "code",
   "execution_count": 42,
   "id": "amber-opening",
   "metadata": {},
   "outputs": [
    {
     "name": "stdout",
     "output_type": "stream",
     "text": [
      "Total number of words:  4541694\n",
      "Average number of words/example:  18.923725\n"
     ]
    }
   ],
   "source": [
    "words = train_df['Text'].str.split().str.len()\n",
    "print('Total number of words: ', words.sum())\n",
    "print('Average number of words/example: ', words.mean())"
   ]
  },
  {
   "cell_type": "markdown",
   "id": "white-brooklyn",
   "metadata": {},
   "source": [
    "We can see that we have over four million words, with an average example length of about 19 words."
   ]
  },
  {
   "cell_type": "markdown",
   "id": "flush-norman",
   "metadata": {},
   "source": [
    "# Pre-Processing"
   ]
  },
  {
   "cell_type": "markdown",
   "id": "tight-transfer",
   "metadata": {},
   "source": [
    "Now that we have dealt with loading, examining, and re-structuring our data we are interested in processing it to prepare for learning an embedding. We need to do a number of things, most notably removing those strange ASCII character leftovers and punctuation."
   ]
  },
  {
   "cell_type": "code",
   "execution_count": 43,
   "id": "frequent-ladder",
   "metadata": {},
   "outputs": [],
   "source": [
    "import re #Regular expressions\n",
    "import string"
   ]
  },
  {
   "cell_type": "markdown",
   "id": "adopted-lambda",
   "metadata": {},
   "source": [
    "The following function for cleaning our text was based off the *remove_punc* function that can be found [here](https://colab.research.google.com/drive/1nh9QvDu3YgceQ2PH5DZz3pnYbGljtpIF?usp=sharing#scrollTo=Rzxp8lfO4OC5). It turns out that no modifications needed to be made in order to remove the ASCII artifacts."
   ]
  },
  {
   "cell_type": "code",
   "execution_count": 44,
   "id": "based-expansion",
   "metadata": {},
   "outputs": [],
   "source": [
    "#Remove punctuation, ASCII artifacts, and other\n",
    "def clean_text(text):\n",
    "    #Remove punctuation\n",
    "    text = re.sub('\\[.*?\\]', '', text)\n",
    "    text = re.sub('https?://\\S+|www\\.\\S+', '', text)\n",
    "    text = re.sub('<.*?>+', '', text)\n",
    "    text = re.sub('[%s]' % re.escape(string.punctuation), '', text)\n",
    "    text = re.sub('\\n', '', text)\n",
    "    text = re.sub('\\w*\\d\\w*', '', text)\n",
    "    \n",
    "    #Convert to lower case\n",
    "    text = text.lower()\n",
    "    \n",
    "    #Remove stop words\n",
    "    return text"
   ]
  },
  {
   "cell_type": "code",
   "execution_count": 45,
   "id": "owned-terrace",
   "metadata": {},
   "outputs": [],
   "source": [
    "train_df['Text'] = train_df['Text'].apply(lambda x: clean_text(x))"
   ]
  },
  {
   "cell_type": "code",
   "execution_count": 46,
   "id": "killing-stevens",
   "metadata": {},
   "outputs": [
    {
     "name": "stdout",
     "output_type": "stream",
     "text": [
      "ap  assets of the nations retail money market mutual funds fell by   billion in the latest week to   trillion the investment company institute said thursday\n"
     ]
    }
   ],
   "source": [
    "print(train_df.loc[6+120000, 'Text'])"
   ]
  },
  {
   "cell_type": "markdown",
   "id": "scenic-bandwidth",
   "metadata": {},
   "source": [
    "We see the same exaple that we saw earlier, but now all of the ASCII artifacts (and other characters) have been removed. It has resulted in some weird white spaces, but this won't affect anything as we are only interested in the words."
   ]
  },
  {
   "cell_type": "markdown",
   "id": "anonymous-baltimore",
   "metadata": {},
   "source": [
    "# Tokenization"
   ]
  },
  {
   "cell_type": "markdown",
   "id": "objective-phenomenon",
   "metadata": {},
   "source": [
    "We have cleaned up our data by removing punctuation and other artifacts, so our next step is to configure everything to learn an embedding. To this end we need to build a vocabulary and tokenize our text data."
   ]
  },
  {
   "cell_type": "code",
   "execution_count": 22,
   "id": "upset-association",
   "metadata": {},
   "outputs": [],
   "source": [
    "from tensorflow.keras.preprocessing.text import Tokenizer\n",
    "from tensorflow.keras.preprocessing.sequence import skipgrams"
   ]
  },
  {
   "cell_type": "code",
   "execution_count": 23,
   "id": "entitled-basement",
   "metadata": {},
   "outputs": [],
   "source": [
    "T = Tokenizer()\n",
    "T.fit_on_texts(train_df['Text'])"
   ]
  },
  {
   "cell_type": "code",
   "execution_count": 24,
   "id": "stunning-times",
   "metadata": {},
   "outputs": [
    {
     "name": "stdout",
     "output_type": "stream",
     "text": [
      "wall st bears claw back into the black reuters\n",
      "[[388, 384, 1513, 14151, 98, 53, 1, 813, 22]]\n"
     ]
    }
   ],
   "source": [
    "sample = train_df['Text'][0]\n",
    "token_text = T.texts_to_sequences([sample])\n",
    "\n",
    "print(sample)\n",
    "print(token_text)"
   ]
  },
  {
   "cell_type": "markdown",
   "id": "beautiful-boulder",
   "metadata": {},
   "source": [
    "Using the Keras Tokenizer we have created a vocabulary from our training data and tokenized every unique word. In the output above we can see the corresponding token sequence for a given string. It is important to point out that \"the\" has a token of 1, this is because it is the most frequent word in our corpus and the Keras tokenizer bases its indexing on this feature."
   ]
  },
  {
   "cell_type": "code",
   "execution_count": 25,
   "id": "elegant-prototype",
   "metadata": {},
   "outputs": [
    {
     "name": "stdout",
     "output_type": "stream",
     "text": [
      "Vocab size:  89903\n"
     ]
    }
   ],
   "source": [
    "v_size = len(T.word_index)+1\n",
    "print('Vocab size: ', v_size)"
   ]
  },
  {
   "cell_type": "markdown",
   "id": "amended-dining",
   "metadata": {},
   "source": [
    "We see that our total vocab size is just under 90,000 unique words. In practice it might make sense to limit this as some of the less frequent words are not important."
   ]
  },
  {
   "cell_type": "code",
   "execution_count": 26,
   "id": "cooperative-scotland",
   "metadata": {},
   "outputs": [],
   "source": [
    "counts = sorted([count for key, count in T.word_counts.items()], reverse=True)"
   ]
  },
  {
   "cell_type": "code",
   "execution_count": 27,
   "id": "exact-break",
   "metadata": {},
   "outputs": [
    {
     "data": {
      "image/png": "[encoded data removed]",
      "text/plain": [
       "<Figure size 720x720 with 1 Axes>"
      ]
     },
     "metadata": {
      "needs_background": "light"
     },
     "output_type": "display_data"
    }
   ],
   "source": [
    "n = 100\n",
    "x = np.arange(1, n+1)\n",
    "\n",
    "fig, ax = plt.subplots(1,1, figsize=(10,10))\n",
    "plot = sns.barplot(x=x, y=counts[:n], ax=ax)\n",
    "plot.set(xticklabels=[])\n",
    "plot.set(xlabel=None)\n",
    "plot.tick_params(bottom=False)\n",
    "plot.set(title='Top 100 Word Counts');"
   ]
  },
  {
   "cell_type": "markdown",
   "id": "royal-drove",
   "metadata": {},
   "source": [
    "In the plot above we can see the top 100 word counts from our corpus. We can see that the counts decay quite rapidly, and in general there is a very long tail. This highlights the importance of frequency based sampling in order to prevent biases towards more common words."
   ]
  },
  {
   "cell_type": "markdown",
   "id": "civic-treaty",
   "metadata": {},
   "source": [
    "The final piece we are interested in is how to transform our tokenized examples into inputs that just consider a windowed context around a given word. To do this we can use the following function from TensorFlow:"
   ]
  },
  {
   "cell_type": "code",
   "execution_count": 28,
   "id": "lesser-community",
   "metadata": {},
   "outputs": [
    {
     "name": "stdout",
     "output_type": "stream",
     "text": [
      "wall st bears claw back into the black reuters \n",
      "\n",
      "[[388, 384, 1513, 14151, 98, 53, 1, 813, 22]] \n",
      "\n",
      "[[388, 384], [388, 1513], [384, 388], [384, 1513], [384, 14151], [1513, 388], [1513, 384], [1513, 14151], [1513, 98], [14151, 384], [14151, 1513], [14151, 98], [14151, 53], [98, 1513], [98, 14151], [98, 53], [98, 1], [53, 14151], [53, 98], [53, 1], [53, 813], [1, 98], [1, 53], [1, 813], [1, 22], [813, 53], [813, 1], [813, 22], [22, 1], [22, 813]]\n"
     ]
    }
   ],
   "source": [
    "couples,_ = skipgrams(token_text[0], v_size, window_size=2, negative_samples=0.0, shuffle=False)\n",
    "print(sample,'\\n')\n",
    "print(token_text,'\\n')\n",
    "print(couples)"
   ]
  },
  {
   "cell_type": "markdown",
   "id": "swiss-spiritual",
   "metadata": {},
   "source": [
    "We have generated sets of skip-grams from the tokenized example we saw above. We have a window of 2 so we look two positions on other side of a target word, and we have not included negative samples. We can see that the first pair corresponds to \"wall st\", and the second \"wall bears\". "
   ]
  },
  {
   "cell_type": "markdown",
   "id": "instrumental-secret",
   "metadata": {},
   "source": [
    "# Conclusion"
   ]
  },
  {
   "cell_type": "markdown",
   "id": "fifty-avenue",
   "metadata": {},
   "source": [
    "We have gone through a lot of processes on our AG Subset dataset. The next step is to streamline all of this so that it can be applied before some deep learning task. The work done here will make that task much easier, and not only for this dataset. In future work I will be able to focus on the learning, and less of the dataset preparation. "
   ]
  }
 ],
 "metadata": {
  "kernelspec": {
   "display_name": "Python 3",
   "language": "python",
   "name": "python3"
  },
  "language_info": {
   "codemirror_mode": {
    "name": "ipython",
    "version": 3
   },
   "file_extension": ".py",
   "mimetype": "text/x-python",
   "name": "python",
   "nbconvert_exporter": "python",
   "pygments_lexer": "ipython3",
   "version": "3.8.5"
  }
 },
 "nbformat": 4,
 "nbformat_minor": 5
}
