{
 "cells": [
  {
   "cell_type": "markdown",
   "id": "interstate-turkey",
   "metadata": {},
   "source": [
    "# Introduction"
   ]
  },
  {
   "cell_type": "markdown",
   "id": "multiple-valentine",
   "metadata": {},
   "source": [
    "In this notebook we will be investigating Generative Adversarial Networks (GANs). We will birefly described their formulation, and then we will build a network to generate handwritten digits based on training from the MNIST dataset. Our model will not deviate too much from the classic setup for a GAN, although we will introduce a few more modern tweaks. I have used [this TensorFlow tutorial](https://www.tensorflow.org/tutorials/generative/dcgan) and [this Keras tutorial](https://keras.io/examples/generative/dcgan_overriding_train_step/) to help me in my work."
   ]
  },
  {
   "cell_type": "markdown",
   "id": "wanted-frank",
   "metadata": {},
   "source": [
    "# Mathematical Setup"
   ]
  },
  {
   "cell_type": "markdown",
   "id": "optimum-purpose",
   "metadata": {},
   "source": [
    "GANs are suprisingly straightforward, although they certainly can become much more complicated as one introduces more modifications or attempts to stabalize them in some way. The idea is that you train two networks simultaneously. One network is the generator which produces fake images, and the other netowrk is the discriminator which distinguishes between real and fake images.\n",
    "\n",
    "For the generator we assume that it generates an image based on some latent input $z$ with prior distribution $p_z$. This pretty much brings us directly to the loss function for our model where G is the generator and D is the discriminator.\n",
    "\n",
    "$$\n",
    "\\min_G\\max_D \\mathrm{E}_{x\\sim p_{data}(x)}[\\log D(x)] + \\mathrm{E}_{z\\sim p_{z}(z)}[\\log(1-D(G(z))]\n",
    "$$"
   ]
  },
  {
   "cell_type": "markdown",
   "id": "piano-manitoba",
   "metadata": {},
   "source": [
    "Looking at the inner maximization we can see that we want the discriminator to correctly identify the real images as real and the fake images as fake. The minimization for the generator is then about fooling the descriminator into thinking that its generated images are real."
   ]
  },
  {
   "cell_type": "markdown",
   "id": "level-perry",
   "metadata": {},
   "source": [
    "The only other major thing we need is the architecture of the generator and descriminator. This will be determined by the data, so let's move on to building a network."
   ]
  },
  {
   "cell_type": "markdown",
   "id": "executive-blocking",
   "metadata": {},
   "source": [
    "# Building a Network"
   ]
  },
  {
   "cell_type": "code",
   "execution_count": 2,
   "id": "prospective-alfred",
   "metadata": {},
   "outputs": [],
   "source": [
    "import numpy as np\n",
    "import matplotlib.pyplot as plt\n",
    "\n",
    "import tensorflow as tf\n",
    "import tensorflow.keras as keras"
   ]
  },
  {
   "cell_type": "markdown",
   "id": "secret-handle",
   "metadata": {},
   "source": [
    "We went through the dataset a bit more extensively in the *Variational Auto-Encoder* notebook, so we will move through it quickly here. "
   ]
  },
  {
   "cell_type": "code",
   "execution_count": 3,
   "id": "bound-stake",
   "metadata": {},
   "outputs": [],
   "source": [
    "#Download\n",
    "(train, _), (test, _) = keras.datasets.mnist.load_data()\n",
    "\n",
    "imgs = np.concatenate((train, test), axis=0).astype('float32')\n",
    "# labels = np.concatenate((train[1], test[1]), axis=0)\n",
    "\n",
    "#Reshape and rescale\n",
    "imgs = imgs.reshape((imgs.shape[0], 28, 28, 1))/255\n",
    "\n",
    "#Turn into TF Dataset\n",
    "from tensorflow.data.experimental import AUTOTUNE\n",
    "\n",
    "size = imgs.shape[0]\n",
    "batch_size = 256\n",
    "\n",
    "dataset = (tf.data.Dataset.from_tensor_slices(imgs).shuffle(size)\n",
    "           .batch(batch_size).prefetch(AUTOTUNE))"
   ]
  },
  {
   "cell_type": "code",
   "execution_count": 6,
   "id": "quick-advertiser",
   "metadata": {},
   "outputs": [
    {
     "data": {
      "image/png": "[encoded data removed]",
      "text/plain": [
       "<Figure size 576x576 with 4 Axes>"
      ]
     },
     "metadata": {},
     "output_type": "display_data"
    }
   ],
   "source": [
    "#Look at a picture\n",
    "fig, ax = plt.subplots(2,2,figsize=(8,8))\n",
    "\n",
    "for i in range(2):\n",
    "    for j in range(2):\n",
    "        ax[i,j].imshow(train[np.random.randint(1,100)], cmap='gray')\n",
    "\n",
    "        ax[i,j].tick_params(axis='both', labelbottom=False, \n",
    "                       labelleft=False, bottom=False, left=False)"
   ]
  },
  {
   "cell_type": "markdown",
   "id": "meaning-garden",
   "metadata": {},
   "source": [
    "Now we will build our model. We set our latent dimension at 100 and our base number of filters is 32."
   ]
  },
  {
   "cell_type": "code",
   "execution_count": 7,
   "id": "adjustable-prediction",
   "metadata": {},
   "outputs": [],
   "source": [
    "latent_dim = 100\n",
    "base = 32"
   ]
  },
  {
   "cell_type": "markdown",
   "id": "associate-local",
   "metadata": {},
   "source": [
    "The generator is a transposed CNN."
   ]
  },
  {
   "cell_type": "code",
   "execution_count": 8,
   "id": "cultural-produce",
   "metadata": {},
   "outputs": [
    {
     "name": "stdout",
     "output_type": "stream",
     "text": [
      "Model: \"sequential\"\n",
      "_________________________________________________________________\n",
      "Layer (type)                 Output Shape              Param #   \n",
      "=================================================================\n",
      "dense (Dense)                (None, 6272)              627200    \n",
      "_________________________________________________________________\n",
      "batch_normalization (BatchNo (None, 6272)              25088     \n",
      "_________________________________________________________________\n",
      "activation (Activation)      (None, 6272)              0         \n",
      "_________________________________________________________________\n",
      "reshape (Reshape)            (None, 7, 7, 128)         0         \n",
      "_________________________________________________________________\n",
      "conv2d_transpose (Conv2DTran (None, 7, 7, 128)         147456    \n",
      "_________________________________________________________________\n",
      "batch_normalization_1 (Batch (None, 7, 7, 128)         512       \n",
      "_________________________________________________________________\n",
      "activation_1 (Activation)    (None, 7, 7, 128)         0         \n",
      "_________________________________________________________________\n",
      "conv2d_transpose_1 (Conv2DTr (None, 14, 14, 64)        73728     \n",
      "_________________________________________________________________\n",
      "batch_normalization_2 (Batch (None, 14, 14, 64)        256       \n",
      "_________________________________________________________________\n",
      "activation_2 (Activation)    (None, 14, 14, 64)        0         \n",
      "_________________________________________________________________\n",
      "conv2d_transpose_2 (Conv2DTr (None, 28, 28, 32)        18432     \n",
      "_________________________________________________________________\n",
      "batch_normalization_3 (Batch (None, 28, 28, 32)        128       \n",
      "_________________________________________________________________\n",
      "activation_3 (Activation)    (None, 28, 28, 32)        0         \n",
      "_________________________________________________________________\n",
      "conv2d_transpose_3 (Conv2DTr (None, 28, 28, 1)         288       \n",
      "=================================================================\n",
      "Total params: 893,088\n",
      "Trainable params: 880,096\n",
      "Non-trainable params: 12,992\n",
      "_________________________________________________________________\n"
     ]
    }
   ],
   "source": [
    "generator = keras.Sequential([\n",
    "    keras.layers.InputLayer(input_shape=(latent_dim,)),\n",
    "    \n",
    "    keras.layers.Dense(units=7*7*4*base, use_bias=False),\n",
    "    keras.layers.BatchNormalization(),\n",
    "    keras.layers.Activation('swish'),\n",
    "    \n",
    "    keras.layers.Reshape((7,7,4*base)),\n",
    "    \n",
    "    keras.layers.Conv2DTranspose(filters=4*base, kernel_size=3, \n",
    "                                strides=1, padding='same', \n",
    "                                use_bias=False),\n",
    "    keras.layers.BatchNormalization(),\n",
    "    keras.layers.Activation('swish'),\n",
    "    \n",
    "    keras.layers.Conv2DTranspose(filters=2*base, kernel_size=3, \n",
    "                                strides=2, padding='same', \n",
    "                                use_bias=False),\n",
    "    keras.layers.BatchNormalization(),\n",
    "    keras.layers.Activation('swish'),\n",
    "    \n",
    "    keras.layers.Conv2DTranspose(filters=base, kernel_size=3, \n",
    "                                strides=2, padding='same', \n",
    "                                use_bias=False),\n",
    "    keras.layers.BatchNormalization(),\n",
    "    keras.layers.Activation('swish'),\n",
    "    \n",
    "    keras.layers.Conv2DTranspose(filters=1, kernel_size=3, \n",
    "                                strides=1, padding='same', \n",
    "                                use_bias=False, activation='sigmoid')\n",
    "])\n",
    "\n",
    "generator.summary()"
   ]
  },
  {
   "cell_type": "markdown",
   "id": "broadband-reminder",
   "metadata": {},
   "source": [
    "The discriminator is a standard CNN."
   ]
  },
  {
   "cell_type": "code",
   "execution_count": 9,
   "id": "faced-driving",
   "metadata": {},
   "outputs": [
    {
     "name": "stdout",
     "output_type": "stream",
     "text": [
      "Model: \"sequential_1\"\n",
      "_________________________________________________________________\n",
      "Layer (type)                 Output Shape              Param #   \n",
      "=================================================================\n",
      "conv2d (Conv2D)              (None, 28, 28, 32)        320       \n",
      "_________________________________________________________________\n",
      "activation_4 (Activation)    (None, 28, 28, 32)        0         \n",
      "_________________________________________________________________\n",
      "conv2d_1 (Conv2D)            (None, 14, 14, 64)        18496     \n",
      "_________________________________________________________________\n",
      "batch_normalization_4 (Batch (None, 14, 14, 64)        256       \n",
      "_________________________________________________________________\n",
      "activation_5 (Activation)    (None, 14, 14, 64)        0         \n",
      "_________________________________________________________________\n",
      "conv2d_2 (Conv2D)            (None, 7, 7, 128)         73856     \n",
      "_________________________________________________________________\n",
      "batch_normalization_5 (Batch (None, 7, 7, 128)         512       \n",
      "_________________________________________________________________\n",
      "activation_6 (Activation)    (None, 7, 7, 128)         0         \n",
      "_________________________________________________________________\n",
      "flatten (Flatten)            (None, 6272)              0         \n",
      "_________________________________________________________________\n",
      "dropout (Dropout)            (None, 6272)              0         \n",
      "_________________________________________________________________\n",
      "dense_1 (Dense)              (None, 1)                 6273      \n",
      "=================================================================\n",
      "Total params: 99,713\n",
      "Trainable params: 99,329\n",
      "Non-trainable params: 384\n",
      "_________________________________________________________________\n"
     ]
    }
   ],
   "source": [
    "discriminator = keras.Sequential([\n",
    "    keras.layers.InputLayer(input_shape=(28,28,1)),\n",
    "    \n",
    "    keras.layers.Conv2D(filters=base, kernel_size=3, strides=1, \n",
    "                        padding='same'),\n",
    "    keras.layers.Activation('swish'),\n",
    "    \n",
    "    keras.layers.Conv2D(filters=2*base, kernel_size=3, strides=2, \n",
    "                        padding='same'),\n",
    "    keras.layers.BatchNormalization(),\n",
    "    keras.layers.Activation('swish'),\n",
    "    \n",
    "    keras.layers.Conv2D(filters=4*base, kernel_size=3, strides=2, \n",
    "                        padding='same'),\n",
    "    keras.layers.BatchNormalization(),\n",
    "    keras.layers.Activation('swish'),\n",
    "    \n",
    "    keras.layers.Flatten(),\n",
    "    keras.layers.Dropout(0.3),\n",
    "    keras.layers.Dense(1)\n",
    "])\n",
    "\n",
    "discriminator.summary()"
   ]
  },
  {
   "cell_type": "markdown",
   "id": "sapphire-consciousness",
   "metadata": {},
   "source": [
    "The following subclasses a Keras model to allow us to implement the somewhat more complicated training procedure."
   ]
  },
  {
   "cell_type": "code",
   "execution_count": 10,
   "id": "driving-rhythm",
   "metadata": {},
   "outputs": [],
   "source": [
    "class GAN(keras.Model):\n",
    "    def __init__(self, generator, discriminator, latent_dim):\n",
    "        super().__init__()\n",
    "        \n",
    "        self.G = generator\n",
    "        self.D = discriminator\n",
    "        self.latent_dim = latent_dim\n",
    "        \n",
    "    def compile(self, g_optimizer, d_optimizer, loss_fn):\n",
    "        super().compile()\n",
    "        \n",
    "        self.g_optim = g_optimizer\n",
    "        self.d_optim = d_optimizer\n",
    "        self.loss_fn = loss_fn\n",
    "        \n",
    "        self.g_metric = keras.metrics.Mean(name='g_loss')\n",
    "        self.d_metric = keras.metrics.Mean(name='d_loss')\n",
    "        \n",
    "    @property\n",
    "    def metrics(self):\n",
    "        return [self.g_metric, self.d_metric]\n",
    "    \n",
    "    @tf.function\n",
    "    def train_step(self, real_imgs):\n",
    "        batch_size = tf.shape(real_imgs)[0]\n",
    "        \n",
    "        noise = tf.random.normal((batch_size, self.latent_dim))\n",
    "        \n",
    "        labels = tf.concat([tf.zeros((batch_size,1)), \n",
    "                            tf.ones((batch_size,1))], axis=0)\n",
    "        labels += 0.05*tf.random.uniform(tf.shape(labels))\n",
    "        \n",
    "        with tf.GradientTape() as g_tape, tf.GradientTape() as d_tape:\n",
    "            gen_imgs = self.G(noise)\n",
    "            \n",
    "            imgs = tf.concat([gen_imgs, real_imgs], axis=0)\n",
    "            \n",
    "            predictions = self.D(imgs)\n",
    "            \n",
    "            g_loss = self.loss_fn(labels[batch_size:], \n",
    "                                  predictions[:batch_size])\n",
    "            d_loss = self.loss_fn(labels, predictions)\n",
    "            \n",
    "        g_vars = self.G.trainable_variables\n",
    "        d_vars = self.D.trainable_variables\n",
    "\n",
    "        g_grad = g_tape.gradient(g_loss, g_vars)\n",
    "        d_grad = d_tape.gradient(d_loss, d_vars)\n",
    "\n",
    "        self.g_optim.apply_gradients(zip(g_grad, g_vars))\n",
    "        self.d_optim.apply_gradients(zip(d_grad, d_vars))\n",
    "        \n",
    "        #Update metrics\n",
    "        self.g_metric.update_state(g_loss)\n",
    "        self.d_metric.update_state(d_loss)\n",
    "        \n",
    "        return {'g_loss': self.g_metric.result(), \n",
    "                'd_loss': self.d_metric.result()}"
   ]
  },
  {
   "cell_type": "code",
   "execution_count": 11,
   "id": "broken-brush",
   "metadata": {
    "scrolled": true
   },
   "outputs": [
    {
     "name": "stdout",
     "output_type": "stream",
     "text": [
      "Epoch 1/30\n",
      "274/274 [==============================] - 40s 137ms/step - g_loss: 3.3623 - d_loss: -0.5269\n",
      "Epoch 2/30\n",
      "274/274 [==============================] - 39s 141ms/step - g_loss: 269.0355 - d_loss: -42.2445\n",
      "Epoch 3/30\n",
      "274/274 [==============================] - 40s 146ms/step - g_loss: 1787.2091 - d_loss: -42.9227\n",
      "Epoch 4/30\n",
      "274/274 [==============================] - 41s 148ms/step - g_loss: 1238.6931 - d_loss: -32.1834\n",
      "Epoch 5/30\n",
      "274/274 [==============================] - 41s 150ms/step - g_loss: 1543.6191 - d_loss: -9.3041\n",
      "Epoch 6/30\n",
      "274/274 [==============================] - 41s 151ms/step - g_loss: 751.7455 - d_loss: 9.6160\n",
      "Epoch 7/30\n",
      "274/274 [==============================] - 42s 154ms/step - g_loss: 431.4754 - d_loss: 0.6728\n",
      "Epoch 8/30\n",
      "274/274 [==============================] - 42s 154ms/step - g_loss: 315.0453 - d_loss: -3.5333\n",
      "Epoch 9/30\n",
      "274/274 [==============================] - 42s 154ms/step - g_loss: 253.2318 - d_loss: -4.8933\n",
      "Epoch 10/30\n",
      "274/274 [==============================] - 43s 156ms/step - g_loss: 216.6697 - d_loss: -4.0383\n",
      "Epoch 11/30\n",
      "274/274 [==============================] - 43s 158ms/step - g_loss: 190.6653 - d_loss: -3.0879\n",
      "Epoch 12/30\n",
      "274/274 [==============================] - 43s 158ms/step - g_loss: 171.9255 - d_loss: -2.7706\n",
      "Epoch 13/30\n",
      "274/274 [==============================] - 43s 157ms/step - g_loss: 151.6782 - d_loss: -3.2387\n",
      "Epoch 14/30\n",
      "274/274 [==============================] - 43s 157ms/step - g_loss: 139.0888 - d_loss: -3.7321\n",
      "Epoch 15/30\n",
      "274/274 [==============================] - 43s 157ms/step - g_loss: 137.1945 - d_loss: -3.6457\n",
      "Epoch 16/30\n",
      "274/274 [==============================] - 43s 158ms/step - g_loss: 146.0817 - d_loss: -2.1749\n",
      "Epoch 17/30\n",
      "274/274 [==============================] - 44s 160ms/step - g_loss: 144.2135 - d_loss: -1.0813\n",
      "Epoch 18/30\n",
      "274/274 [==============================] - 44s 159ms/step - g_loss: 133.9966 - d_loss: -1.1028\n",
      "Epoch 19/30\n",
      "274/274 [==============================] - 44s 158ms/step - g_loss: 126.1948 - d_loss: -1.3060\n",
      "Epoch 20/30\n",
      "274/274 [==============================] - 44s 159ms/step - g_loss: 116.4675 - d_loss: -1.0229\n",
      "Epoch 21/30\n",
      "274/274 [==============================] - 44s 159ms/step - g_loss: 109.0267 - d_loss: 0.0187\n",
      "Epoch 22/30\n",
      "274/274 [==============================] - 44s 160ms/step - g_loss: 100.7029 - d_loss: 1.0539\n",
      "Epoch 23/30\n",
      "274/274 [==============================] - 44s 160ms/step - g_loss: 90.6242 - d_loss: 1.6041\n",
      "Epoch 24/30\n",
      "274/274 [==============================] - 44s 161ms/step - g_loss: 80.5802 - d_loss: 1.7051\n",
      "Epoch 25/30\n",
      "274/274 [==============================] - 44s 161ms/step - g_loss: 73.2533 - d_loss: 1.3399\n",
      "Epoch 26/30\n",
      "274/274 [==============================] - 44s 161ms/step - g_loss: 70.0484 - d_loss: 0.9535\n",
      "Epoch 27/30\n",
      "274/274 [==============================] - 44s 161ms/step - g_loss: 67.2225 - d_loss: 0.7062\n",
      "Epoch 28/30\n",
      "274/274 [==============================] - 45s 162ms/step - g_loss: 66.6656 - d_loss: 0.6816\n",
      "Epoch 29/30\n",
      "274/274 [==============================] - 44s 162ms/step - g_loss: 67.5663 - d_loss: 0.6813\n",
      "Epoch 30/30\n",
      "274/274 [==============================] - 44s 160ms/step - g_loss: 66.3024 - d_loss: 0.9248\n"
     ]
    },
    {
     "data": {
      "text/plain": [
       "<tensorflow.python.keras.callbacks.History at 0x7feb70682640>"
      ]
     },
     "execution_count": 11,
     "metadata": {},
     "output_type": "execute_result"
    }
   ],
   "source": [
    "gan = GAN(generator, discriminator, latent_dim)\n",
    "gan.compile(tf.keras.optimizers.Adam(1e-5), \n",
    "            tf.keras.optimizers.Adam(1e-4),\n",
    "            keras.losses.BinaryCrossentropy(from_logits=True))\n",
    "\n",
    "gan.fit(dataset, epochs=30)"
   ]
  },
  {
   "cell_type": "markdown",
   "id": "premium-acrobat",
   "metadata": {},
   "source": [
    "I was originally planning to train for 50 epochs, but that was taking too long, so I settled with 30."
   ]
  },
  {
   "cell_type": "code",
   "execution_count": 17,
   "id": "valid-brake",
   "metadata": {},
   "outputs": [
    {
     "data": {
      "image/png": "[encoded data removed]",
      "text/plain": [
       "<Figure size 576x576 with 4 Axes>"
      ]
     },
     "metadata": {},
     "output_type": "display_data"
    }
   ],
   "source": [
    "#Look at a picture\n",
    "fig, ax = plt.subplots(2,2,figsize=(8,8))\n",
    "\n",
    "for i in range(2):\n",
    "    for j in range(2):\n",
    "        noise = tf.random.normal((1, latent_dim))\n",
    "        gen_x = gan.G.predict(noise).reshape((28,28,1))\n",
    "        \n",
    "        ax[i,j].imshow(gen_x, cmap='gray')\n",
    "\n",
    "        ax[i,j].tick_params(axis='both', labelbottom=False, \n",
    "                       labelleft=False, bottom=False, left=False)"
   ]
  },
  {
   "cell_type": "markdown",
   "id": "found-liberty",
   "metadata": {},
   "source": [
    "Hmmm, things aren't looking too good. I may need to train for longer, or perhaps my model setup isn't quite tuned correctly. Clearly the generator is learning something, but I will need to investigate more."
   ]
  },
  {
   "cell_type": "code",
   "execution_count": null,
   "id": "meaning-portland",
   "metadata": {},
   "outputs": [],
   "source": []
  }
 ],
 "metadata": {
  "kernelspec": {
   "display_name": "Python 3",
   "language": "python",
   "name": "python3"
  },
  "language_info": {
   "codemirror_mode": {
    "name": "ipython",
    "version": 3
   },
   "file_extension": ".py",
   "mimetype": "text/x-python",
   "name": "python",
   "nbconvert_exporter": "python",
   "pygments_lexer": "ipython3",
   "version": "3.8.8"
  }
 },
 "nbformat": 4,
 "nbformat_minor": 5
}
